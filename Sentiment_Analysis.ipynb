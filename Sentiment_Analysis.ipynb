{
  "nbformat": 4,
  "nbformat_minor": 0,
  "metadata": {
    "colab": {
      "provenance": []
    },
    "kernelspec": {
      "name": "python3",
      "display_name": "Python 3"
    },
    "language_info": {
      "name": "python"
    }
  },
  "cells": [
    {
      "cell_type": "code",
      "execution_count": 3,
      "metadata": {
        "colab": {
          "base_uri": "https://localhost:8080/"
        },
        "id": "pbp-7X0MsjP6",
        "outputId": "27395c22-bdcc-4dad-acfe-90c4908761dc"
      },
      "outputs": [
        {
          "output_type": "stream",
          "name": "stderr",
          "text": [
            "[nltk_data] Downloading package vader_lexicon to /root/nltk_data...\n",
            "[nltk_data]   Package vader_lexicon is already up-to-date!\n"
          ]
        },
        {
          "name": "stdout",
          "output_type": "stream",
          "text": [
            "Sentiment Analysis Tool\n",
            "\n",
            "Enter the text to analyze sentiment: Allu Arjun lived in the Charector ❤️ Everyone acted very well. Climax just gave goosebumps 🔥 What an energy 🔥 Blockbuster Movie 🎥\n"
          ]
        },
        {
          "output_type": "stream",
          "name": "stderr",
          "text": [
            "No model was supplied, defaulted to distilbert/distilbert-base-uncased-finetuned-sst-2-english and revision 714eb0f (https://huggingface.co/distilbert/distilbert-base-uncased-finetuned-sst-2-english).\n",
            "Using a pipeline without specifying a model name and revision in production is not recommended.\n"
          ]
        },
        {
          "output_type": "stream",
          "name": "stdout",
          "text": [
            "TextBlob Sentiment:  Positive\n",
            "NLTK Sentiment:  Positive\n"
          ]
        },
        {
          "output_type": "stream",
          "name": "stderr",
          "text": [
            "Device set to use cpu\n"
          ]
        },
        {
          "output_type": "stream",
          "name": "stdout",
          "text": [
            "Transformer Sentiment:  POSITIVE\n"
          ]
        }
      ],
      "source": [
        "# sentiment_analysis.py\n",
        "\n",
        "# Import necessary libraries\n",
        "from textblob import TextBlob\n",
        "from nltk.sentiment import SentimentIntensityAnalyzer\n",
        "from transformers import pipeline\n",
        "import nltk\n",
        "nltk.download('vader_lexicon')\n",
        "\n",
        "# 1. Basic Sentiment Analysis using TextBlob\n",
        "def basic_sentiment_analysis(text):\n",
        "    \"\"\"Analyzes sentiment using TextBlob's polarity score.\"\"\"\n",
        "    blob = TextBlob(text)\n",
        "    polarity = blob.sentiment.polarity\n",
        "    if polarity > 0:\n",
        "        return 'Positive'\n",
        "    elif polarity < 0:\n",
        "        return 'Negative'\n",
        "    else:\n",
        "        return 'Neutral'\n",
        "\n",
        "# 2. Advanced Sentiment Analysis using NLTK's SentimentIntensityAnalyzer\n",
        "def advanced_sentiment_analysis(text):\n",
        "    \"\"\"Analyzes sentiment using NLTK's SentimentIntensityAnalyzer.\"\"\"\n",
        "    sia = SentimentIntensityAnalyzer()\n",
        "    score = sia.polarity_scores(text)['compound']\n",
        "    if score >= 0.05:\n",
        "        return 'Positive'\n",
        "    elif score <= -0.05:\n",
        "        return 'Negative'\n",
        "    else:\n",
        "        return 'Neutral'\n",
        "\n",
        "# 3. Sentiment Analysis using Transformers (Hugging Face)\n",
        "def transformer_sentiment_analysis(text):\n",
        "    \"\"\"Analyzes sentiment using Hugging Face Transformers (BERT, RoBERTa, etc.).\"\"\"\n",
        "    classifier = pipeline('sentiment-analysis')\n",
        "    result = classifier(text)\n",
        "    return result[0]['label']\n",
        "\n",
        "# 4. Combine all sentiment analysis methods\n",
        "def analyze_sentiment(text):\n",
        "    \"\"\"Analyzes sentiment using all three methods and prints results.\"\"\"\n",
        "    print(\"TextBlob Sentiment: \", basic_sentiment_analysis(text))\n",
        "    print(\"NLTK Sentiment: \", advanced_sentiment_analysis(text))\n",
        "    print(\"Transformer Sentiment: \", transformer_sentiment_analysis(text))\n",
        "\n",
        "# 5. Main function for user input\n",
        "if __name__ == \"__main__\":\n",
        "    print(\"Sentiment Analysis Tool\\n\")\n",
        "\n",
        "    # Allow user to input text (could be a review, tweet, etc.)\n",
        "    text = input(\"Enter the text to analyze sentiment: \")\n",
        "\n",
        "    # Analyze and display sentiment results\n",
        "    analyze_sentiment(text)\n"
      ]
    }
  ]
}